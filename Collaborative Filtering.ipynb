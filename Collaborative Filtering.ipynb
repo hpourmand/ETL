{
 "cells": [
  {
   "cell_type": "markdown",
   "id": "bb40a834-a9c1-4e2a-bb42-e899dbb8befb",
   "metadata": {},
   "source": [
    "## Collaborative Filtering"
   ]
  },
  {
   "cell_type": "markdown",
   "id": "a429d9c5-6087-4dc4-a2cc-43430ceafc4a",
   "metadata": {},
   "source": [
    "#### Import Libraries"
   ]
  },
  {
   "cell_type": "code",
   "execution_count": 1,
   "id": "24fa4f3d-ad7b-4d24-9c9e-fe135fce4498",
   "metadata": {},
   "outputs": [],
   "source": [
    "import pandas as pd\n",
    "from sklearn.metrics.pairwise import cosine_similarity\n",
    "from scipy.sparse import csr_matrix"
   ]
  },
  {
   "cell_type": "markdown",
   "id": "a91763a6-e9b1-4de5-8e6f-0800ed2e998b",
   "metadata": {},
   "source": [
    "#### Load Dataset"
   ]
  },
  {
   "cell_type": "code",
   "execution_count": 2,
   "id": "8d6f4f37-a8aa-4b64-b622-21cf33250e8b",
   "metadata": {},
   "outputs": [],
   "source": [
    "df = pd.read_csv('/Users/hpourmand/Desktop/Retail/EngineeredDataset.csv')"
   ]
  },
  {
   "cell_type": "markdown",
   "id": "7a171e97-8f8d-40bf-9c46-b732f6b8853d",
   "metadata": {},
   "source": [
    "#### Create a User-Item Matrix"
   ]
  },
  {
   "cell_type": "code",
   "execution_count": 9,
   "id": "2295c551-d68e-4b6e-848d-8abe8bbd5e59",
   "metadata": {},
   "outputs": [],
   "source": [
    "user_item_matrix = df.pivot_table(index='Customer ID', columns='Product ID', aggfunc='size', fill_value=0)"
   ]
  },
  {
   "cell_type": "markdown",
   "id": "8db75fc6-fcc4-4e28-9b25-e808ba85ea18",
   "metadata": {},
   "source": [
    "#### Convert to a Sparse Matrix Format"
   ]
  },
  {
   "cell_type": "code",
   "execution_count": 10,
   "id": "c3e5b2c0-1bde-40da-92cd-d63a44d52765",
   "metadata": {},
   "outputs": [],
   "source": [
    "sparse_matrix = csr_matrix(user_item_matrix)"
   ]
  },
  {
   "cell_type": "markdown",
   "id": "fc62ebe3-67a0-4845-9ba3-f84b060d5cfe",
   "metadata": {},
   "source": [
    "#### Compute the Cosine Similarity Between Products"
   ]
  },
  {
   "cell_type": "code",
   "execution_count": 11,
   "id": "0fe9da58-c8ae-43e5-888d-83d0af9be49c",
   "metadata": {},
   "outputs": [],
   "source": [
    "product_similarity = cosine_similarity(sparse_matrix.T)  # Transpose to get product similarities\n",
    "product_similarity_df = pd.DataFrame(product_similarity, index=user_item_matrix.columns, columns=user_item_matrix.columns)"
   ]
  },
  {
   "cell_type": "markdown",
   "id": "04f881b7-14ac-4119-a9d2-6a0c401859a4",
   "metadata": {},
   "source": [
    "#### Define a Function to Get Product Recommendations"
   ]
  },
  {
   "cell_type": "code",
   "execution_count": 12,
   "id": "dbc265e7-8762-40ff-b5c9-93f4b137a00a",
   "metadata": {},
   "outputs": [],
   "source": [
    "def recommend_products(product_id, similarity_matrix, top_n=5):\n",
    "    # Check if product_id exists in the similarity matrix\n",
    "    if product_id not in similarity_matrix.index:\n",
    "        print(f\"Product {product_id} not found in the data.\")\n",
    "        return []\n",
    "    \n",
    "    # Get similarity scores for the product and sort them in descending order\n",
    "    similar_products = similarity_matrix[product_id].sort_values(ascending=False)\n",
    "    \n",
    "    # Exclude the queried product itself and select the top_n similar products\n",
    "    recommended_products = similar_products.iloc[1:top_n+1].index.tolist()\n",
    "    \n",
    "    return recommended_products"
   ]
  },
  {
   "cell_type": "markdown",
   "id": "0edc63c7-2f2d-4643-9227-30e29b793e20",
   "metadata": {},
   "source": [
    "#### Test the Recommendation Function"
   ]
  },
  {
   "cell_type": "code",
   "execution_count": 16,
   "id": "514c8953-168c-4868-b78b-769340e31b15",
   "metadata": {},
   "outputs": [
    {
     "name": "stdout",
     "output_type": "stream",
     "text": [
      "Products recommended for customers who bought OFF-ST-10000107: ['TEC-MA-10003353', 'TEC-MA-10002210', 'OFF-LA-10002368', 'TEC-PH-10000213', 'TEC-PH-10001644']\n"
     ]
    }
   ],
   "source": [
    "product_id = 'OFF-ST-10000107'  \n",
    "recommended_products = recommend_products(product_id, product_similarity_df)\n",
    "print(f\"Products recommended for customers who bought {product_id}: {recommended_products}\")"
   ]
  }
 ],
 "metadata": {
  "kernelspec": {
   "display_name": "Python 3 (ipykernel)",
   "language": "python",
   "name": "python3"
  },
  "language_info": {
   "codemirror_mode": {
    "name": "ipython",
    "version": 3
   },
   "file_extension": ".py",
   "mimetype": "text/x-python",
   "name": "python",
   "nbconvert_exporter": "python",
   "pygments_lexer": "ipython3",
   "version": "3.11.7"
  }
 },
 "nbformat": 4,
 "nbformat_minor": 5
}
