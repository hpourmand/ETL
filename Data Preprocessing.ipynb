{
 "cells": [
  {
   "cell_type": "markdown",
   "id": "906c65e2-17a3-4b9c-b0d0-0a7526debc37",
   "metadata": {},
   "source": [
    "## Data Preprocessing"
   ]
  },
  {
   "cell_type": "markdown",
   "id": "66e79348-45a8-4fc5-96a7-e8a8948046dc",
   "metadata": {},
   "source": [
    "#### Import Libraries"
   ]
  },
  {
   "cell_type": "code",
   "execution_count": 2,
   "id": "b4be48e1-628f-4d43-b7c1-c101b7d5faad",
   "metadata": {},
   "outputs": [],
   "source": [
    "import pandas as pd\n",
    "import numpy as np"
   ]
  },
  {
   "cell_type": "markdown",
   "id": "95a7dd5f-ea3b-4cd5-a29c-ba52d63dba1c",
   "metadata": {},
   "source": [
    "#### Load Dataset"
   ]
  },
  {
   "cell_type": "code",
   "execution_count": 3,
   "id": "00ac37cf-33e1-48c5-9556-82c0f5c2b96f",
   "metadata": {},
   "outputs": [],
   "source": [
    "df = pd.read_csv(\"/Users/hpourmand/Desktop/Retail/Superstore Sales Dataset.csv\")"
   ]
  },
  {
   "cell_type": "markdown",
   "id": "a52a0fa5-e7d5-4e0a-859d-e9b89273d1ab",
   "metadata": {},
   "source": [
    "#### Convert Date Columns to DateTime Format"
   ]
  },
  {
   "cell_type": "code",
   "execution_count": 5,
   "id": "f8c1633b-2d78-4a68-bb1c-b2737ef9bd60",
   "metadata": {},
   "outputs": [],
   "source": [
    "df['Order Date'] = pd.to_datetime(df['Order Date'], format='mixed', dayfirst=True, errors='coerce')\n",
    "df['Ship Date'] = pd.to_datetime(df['Ship Date'], format='mixed', dayfirst=True, errors='coerce')"
   ]
  },
  {
   "cell_type": "markdown",
   "id": "1aa742ea-c0e2-4748-8f0a-49d95976c88a",
   "metadata": {},
   "source": [
    "#### Handle Missing Values in 'Postal Code' Column"
   ]
  },
  {
   "cell_type": "code",
   "execution_count": 7,
   "id": "9e183559-deba-4ff3-a0c4-531a026f6a5c",
   "metadata": {},
   "outputs": [
    {
     "data": {
      "text/plain": [
       "0"
      ]
     },
     "execution_count": 7,
     "metadata": {},
     "output_type": "execute_result"
    }
   ],
   "source": [
    "df['Postal Code'].fillna('Unknown', inplace=True)\n",
    "df['Postal Code'].isnull().sum()"
   ]
  },
  {
   "cell_type": "markdown",
   "id": "b01409f5-8fb5-47ab-8b82-8e43561caef0",
   "metadata": {},
   "source": [
    "#### Feature Engineering with Dates "
   ]
  },
  {
   "cell_type": "code",
   "execution_count": 8,
   "id": "21df8b95-70af-4e82-9a92-39257ed92c94",
   "metadata": {},
   "outputs": [],
   "source": [
    "df['Order Year'] = df['Order Date'].dt.year\n",
    "df['Order Month'] = df['Order Date'].dt.month\n",
    "df['Order Day'] = df['Order Date'].dt.day\n",
    "df['Order Weekday'] = df['Order Date'].dt.weekday"
   ]
  },
  {
   "cell_type": "markdown",
   "id": "757838cb-9bb1-46f2-ae01-b7fdac22f72f",
   "metadata": {},
   "source": [
    "#### Calculate Order Fulfillment Time (in days) for order fulfillment analysis"
   ]
  },
  {
   "cell_type": "code",
   "execution_count": 9,
   "id": "ef44ead1-bcdf-4241-a702-1a832e9b2031",
   "metadata": {},
   "outputs": [],
   "source": [
    "df['Fulfillment Time (Days)'] = (df['Ship Date'] - df['Order Date']).dt.days"
   ]
  },
  {
   "cell_type": "markdown",
   "id": "ff83eb02-1fd6-4f23-afbd-72d7b60e68e5",
   "metadata": {},
   "source": [
    "#### Encoding Categorical Variables"
   ]
  },
  {
   "cell_type": "code",
   "execution_count": 10,
   "id": "24318c2b-5ec3-441d-9a12-78b22dc16780",
   "metadata": {},
   "outputs": [],
   "source": [
    "df = pd.get_dummies(df, columns=['Ship Mode', 'Segment', 'Region'], drop_first=True)"
   ]
  },
  {
   "cell_type": "markdown",
   "id": "a051dfc4-bd72-468d-ac93-88285dab2198",
   "metadata": {},
   "source": [
    "#### Aggregate Sales Data by Different Time Frames (for Time Series Analysis)"
   ]
  },
  {
   "cell_type": "code",
   "execution_count": 12,
   "id": "63c61220-6cfa-4ed7-bff4-1b61a8b50816",
   "metadata": {},
   "outputs": [
    {
     "name": "stderr",
     "output_type": "stream",
     "text": [
      "/var/folders/z8/rs29j2g93hb0w4pdz9_5pl400000gn/T/ipykernel_2155/1255354998.py:1: FutureWarning: 'M' is deprecated and will be removed in a future version, please use 'ME' instead.\n",
      "  monthly_sales = df.resample('M', on='Order Date')['Sales'].sum().reset_index()\n"
     ]
    },
    {
     "data": {
      "text/html": [
       "<div>\n",
       "<style scoped>\n",
       "    .dataframe tbody tr th:only-of-type {\n",
       "        vertical-align: middle;\n",
       "    }\n",
       "\n",
       "    .dataframe tbody tr th {\n",
       "        vertical-align: top;\n",
       "    }\n",
       "\n",
       "    .dataframe thead th {\n",
       "        text-align: right;\n",
       "    }\n",
       "</style>\n",
       "<table border=\"1\" class=\"dataframe\">\n",
       "  <thead>\n",
       "    <tr style=\"text-align: right;\">\n",
       "      <th></th>\n",
       "      <th>Order Date</th>\n",
       "      <th>Sales</th>\n",
       "    </tr>\n",
       "  </thead>\n",
       "  <tbody>\n",
       "    <tr>\n",
       "      <th>0</th>\n",
       "      <td>2015-01-31</td>\n",
       "      <td>14205.7070</td>\n",
       "    </tr>\n",
       "    <tr>\n",
       "      <th>1</th>\n",
       "      <td>2015-02-28</td>\n",
       "      <td>4519.8920</td>\n",
       "    </tr>\n",
       "    <tr>\n",
       "      <th>2</th>\n",
       "      <td>2015-03-31</td>\n",
       "      <td>55205.7970</td>\n",
       "    </tr>\n",
       "    <tr>\n",
       "      <th>3</th>\n",
       "      <td>2015-04-30</td>\n",
       "      <td>27906.8550</td>\n",
       "    </tr>\n",
       "    <tr>\n",
       "      <th>4</th>\n",
       "      <td>2015-05-31</td>\n",
       "      <td>23644.3030</td>\n",
       "    </tr>\n",
       "    <tr>\n",
       "      <th>5</th>\n",
       "      <td>2015-06-30</td>\n",
       "      <td>34322.9356</td>\n",
       "    </tr>\n",
       "    <tr>\n",
       "      <th>6</th>\n",
       "      <td>2015-07-31</td>\n",
       "      <td>33781.5430</td>\n",
       "    </tr>\n",
       "    <tr>\n",
       "      <th>7</th>\n",
       "      <td>2015-08-31</td>\n",
       "      <td>27117.5365</td>\n",
       "    </tr>\n",
       "    <tr>\n",
       "      <th>8</th>\n",
       "      <td>2015-09-30</td>\n",
       "      <td>81623.5268</td>\n",
       "    </tr>\n",
       "    <tr>\n",
       "      <th>9</th>\n",
       "      <td>2015-10-31</td>\n",
       "      <td>31453.3930</td>\n",
       "    </tr>\n",
       "    <tr>\n",
       "      <th>10</th>\n",
       "      <td>2015-11-30</td>\n",
       "      <td>77907.6607</td>\n",
       "    </tr>\n",
       "    <tr>\n",
       "      <th>11</th>\n",
       "      <td>2015-12-31</td>\n",
       "      <td>68167.0585</td>\n",
       "    </tr>\n",
       "    <tr>\n",
       "      <th>12</th>\n",
       "      <td>2016-01-31</td>\n",
       "      <td>18066.9576</td>\n",
       "    </tr>\n",
       "    <tr>\n",
       "      <th>13</th>\n",
       "      <td>2016-02-29</td>\n",
       "      <td>11951.4110</td>\n",
       "    </tr>\n",
       "    <tr>\n",
       "      <th>14</th>\n",
       "      <td>2016-03-31</td>\n",
       "      <td>32339.3184</td>\n",
       "    </tr>\n",
       "    <tr>\n",
       "      <th>15</th>\n",
       "      <td>2016-04-30</td>\n",
       "      <td>34154.4685</td>\n",
       "    </tr>\n",
       "    <tr>\n",
       "      <th>16</th>\n",
       "      <td>2016-05-31</td>\n",
       "      <td>29959.5305</td>\n",
       "    </tr>\n",
       "    <tr>\n",
       "      <th>17</th>\n",
       "      <td>2016-06-30</td>\n",
       "      <td>23599.3740</td>\n",
       "    </tr>\n",
       "    <tr>\n",
       "      <th>18</th>\n",
       "      <td>2016-07-31</td>\n",
       "      <td>28608.2590</td>\n",
       "    </tr>\n",
       "    <tr>\n",
       "      <th>19</th>\n",
       "      <td>2016-08-31</td>\n",
       "      <td>36818.3422</td>\n",
       "    </tr>\n",
       "    <tr>\n",
       "      <th>20</th>\n",
       "      <td>2016-09-30</td>\n",
       "      <td>63133.6060</td>\n",
       "    </tr>\n",
       "    <tr>\n",
       "      <th>21</th>\n",
       "      <td>2016-10-31</td>\n",
       "      <td>31011.7375</td>\n",
       "    </tr>\n",
       "    <tr>\n",
       "      <th>22</th>\n",
       "      <td>2016-11-30</td>\n",
       "      <td>75249.3995</td>\n",
       "    </tr>\n",
       "    <tr>\n",
       "      <th>23</th>\n",
       "      <td>2016-12-31</td>\n",
       "      <td>74543.6012</td>\n",
       "    </tr>\n",
       "    <tr>\n",
       "      <th>24</th>\n",
       "      <td>2017-01-31</td>\n",
       "      <td>18542.4910</td>\n",
       "    </tr>\n",
       "    <tr>\n",
       "      <th>25</th>\n",
       "      <td>2017-02-28</td>\n",
       "      <td>22978.8150</td>\n",
       "    </tr>\n",
       "    <tr>\n",
       "      <th>26</th>\n",
       "      <td>2017-03-31</td>\n",
       "      <td>51165.0590</td>\n",
       "    </tr>\n",
       "    <tr>\n",
       "      <th>27</th>\n",
       "      <td>2017-04-30</td>\n",
       "      <td>38679.7670</td>\n",
       "    </tr>\n",
       "    <tr>\n",
       "      <th>28</th>\n",
       "      <td>2017-05-31</td>\n",
       "      <td>56656.9080</td>\n",
       "    </tr>\n",
       "    <tr>\n",
       "      <th>29</th>\n",
       "      <td>2017-06-30</td>\n",
       "      <td>39724.4860</td>\n",
       "    </tr>\n",
       "    <tr>\n",
       "      <th>30</th>\n",
       "      <td>2017-07-31</td>\n",
       "      <td>38320.7830</td>\n",
       "    </tr>\n",
       "    <tr>\n",
       "      <th>31</th>\n",
       "      <td>2017-08-31</td>\n",
       "      <td>30542.2003</td>\n",
       "    </tr>\n",
       "    <tr>\n",
       "      <th>32</th>\n",
       "      <td>2017-09-30</td>\n",
       "      <td>69193.3909</td>\n",
       "    </tr>\n",
       "    <tr>\n",
       "      <th>33</th>\n",
       "      <td>2017-10-31</td>\n",
       "      <td>59583.0330</td>\n",
       "    </tr>\n",
       "    <tr>\n",
       "      <th>34</th>\n",
       "      <td>2017-11-30</td>\n",
       "      <td>79066.4958</td>\n",
       "    </tr>\n",
       "    <tr>\n",
       "      <th>35</th>\n",
       "      <td>2017-12-31</td>\n",
       "      <td>95739.1210</td>\n",
       "    </tr>\n",
       "    <tr>\n",
       "      <th>36</th>\n",
       "      <td>2018-01-31</td>\n",
       "      <td>43476.4740</td>\n",
       "    </tr>\n",
       "    <tr>\n",
       "      <th>37</th>\n",
       "      <td>2018-02-28</td>\n",
       "      <td>19920.9974</td>\n",
       "    </tr>\n",
       "    <tr>\n",
       "      <th>38</th>\n",
       "      <td>2018-03-31</td>\n",
       "      <td>58863.4128</td>\n",
       "    </tr>\n",
       "    <tr>\n",
       "      <th>39</th>\n",
       "      <td>2018-04-30</td>\n",
       "      <td>35541.9101</td>\n",
       "    </tr>\n",
       "    <tr>\n",
       "      <th>40</th>\n",
       "      <td>2018-05-31</td>\n",
       "      <td>43825.9822</td>\n",
       "    </tr>\n",
       "    <tr>\n",
       "      <th>41</th>\n",
       "      <td>2018-06-30</td>\n",
       "      <td>48190.7277</td>\n",
       "    </tr>\n",
       "    <tr>\n",
       "      <th>42</th>\n",
       "      <td>2018-07-31</td>\n",
       "      <td>44825.1040</td>\n",
       "    </tr>\n",
       "    <tr>\n",
       "      <th>43</th>\n",
       "      <td>2018-08-31</td>\n",
       "      <td>62837.8480</td>\n",
       "    </tr>\n",
       "    <tr>\n",
       "      <th>44</th>\n",
       "      <td>2018-09-30</td>\n",
       "      <td>86152.8880</td>\n",
       "    </tr>\n",
       "    <tr>\n",
       "      <th>45</th>\n",
       "      <td>2018-10-31</td>\n",
       "      <td>77448.1312</td>\n",
       "    </tr>\n",
       "    <tr>\n",
       "      <th>46</th>\n",
       "      <td>2018-11-30</td>\n",
       "      <td>117938.1550</td>\n",
       "    </tr>\n",
       "    <tr>\n",
       "      <th>47</th>\n",
       "      <td>2018-12-31</td>\n",
       "      <td>83030.3888</td>\n",
       "    </tr>\n",
       "  </tbody>\n",
       "</table>\n",
       "</div>"
      ],
      "text/plain": [
       "   Order Date        Sales\n",
       "0  2015-01-31   14205.7070\n",
       "1  2015-02-28    4519.8920\n",
       "2  2015-03-31   55205.7970\n",
       "3  2015-04-30   27906.8550\n",
       "4  2015-05-31   23644.3030\n",
       "5  2015-06-30   34322.9356\n",
       "6  2015-07-31   33781.5430\n",
       "7  2015-08-31   27117.5365\n",
       "8  2015-09-30   81623.5268\n",
       "9  2015-10-31   31453.3930\n",
       "10 2015-11-30   77907.6607\n",
       "11 2015-12-31   68167.0585\n",
       "12 2016-01-31   18066.9576\n",
       "13 2016-02-29   11951.4110\n",
       "14 2016-03-31   32339.3184\n",
       "15 2016-04-30   34154.4685\n",
       "16 2016-05-31   29959.5305\n",
       "17 2016-06-30   23599.3740\n",
       "18 2016-07-31   28608.2590\n",
       "19 2016-08-31   36818.3422\n",
       "20 2016-09-30   63133.6060\n",
       "21 2016-10-31   31011.7375\n",
       "22 2016-11-30   75249.3995\n",
       "23 2016-12-31   74543.6012\n",
       "24 2017-01-31   18542.4910\n",
       "25 2017-02-28   22978.8150\n",
       "26 2017-03-31   51165.0590\n",
       "27 2017-04-30   38679.7670\n",
       "28 2017-05-31   56656.9080\n",
       "29 2017-06-30   39724.4860\n",
       "30 2017-07-31   38320.7830\n",
       "31 2017-08-31   30542.2003\n",
       "32 2017-09-30   69193.3909\n",
       "33 2017-10-31   59583.0330\n",
       "34 2017-11-30   79066.4958\n",
       "35 2017-12-31   95739.1210\n",
       "36 2018-01-31   43476.4740\n",
       "37 2018-02-28   19920.9974\n",
       "38 2018-03-31   58863.4128\n",
       "39 2018-04-30   35541.9101\n",
       "40 2018-05-31   43825.9822\n",
       "41 2018-06-30   48190.7277\n",
       "42 2018-07-31   44825.1040\n",
       "43 2018-08-31   62837.8480\n",
       "44 2018-09-30   86152.8880\n",
       "45 2018-10-31   77448.1312\n",
       "46 2018-11-30  117938.1550\n",
       "47 2018-12-31   83030.3888"
      ]
     },
     "execution_count": 12,
     "metadata": {},
     "output_type": "execute_result"
    }
   ],
   "source": [
    "monthly_sales = df.resample('M', on='Order Date')['Sales'].sum().reset_index()\n",
    "monthly_sales"
   ]
  },
  {
   "cell_type": "markdown",
   "id": "30aea7ef-9e7a-4086-9bed-c240102f4ae5",
   "metadata": {},
   "source": [
    "#### Customer Segmentation - RFM Features"
   ]
  },
  {
   "cell_type": "markdown",
   "id": "5a7894bf-bbf5-420f-a8ca-40b2bfba8ea7",
   "metadata": {},
   "source": [
    "##### Recency: Days since last purchase, Frequency: Total orders per customer, Monetary: Total spending per customer"
   ]
  },
  {
   "cell_type": "code",
   "execution_count": 14,
   "id": "cfdf0fb9-daf0-40a8-8aa2-f89f47638d77",
   "metadata": {},
   "outputs": [],
   "source": [
    "rfm = df.groupby('Customer ID').agg({\n",
    "    'Order Date': lambda x: (df['Order Date'].max() - x.max()).days,\n",
    "    'Order ID': 'nunique',  # Frequency\n",
    "    'Sales': 'sum'          # Monetary\n",
    "}).reset_index()\n",
    "\n",
    "# Rename columns for RFM\n",
    "rfm.columns = ['Customer ID', 'Recency', 'Frequency', 'Monetary']"
   ]
  },
  {
   "cell_type": "markdown",
   "id": "e517474b-0a51-4a5f-92dd-83925f595f06",
   "metadata": {},
   "source": [
    "#### Create Product-Level Aggregates (for Product Recommendation or Inventory)"
   ]
  },
  {
   "cell_type": "code",
   "execution_count": 15,
   "id": "b289b17b-b4c3-4c71-9d01-99ff52235649",
   "metadata": {},
   "outputs": [],
   "source": [
    "product_agg = df.groupby(['Product ID', 'Product Name']).agg({\n",
    "    'Sales': 'sum',\n",
    "    'Order ID': 'count'  # Assuming each order line represents one unit sold\n",
    "}).reset_index()\n",
    "\n",
    "# Rename columns for clarity\n",
    "product_agg.columns = ['Product ID', 'Product Name', 'Total Sales', 'Total Units Sold']\n"
   ]
  },
  {
   "cell_type": "markdown",
   "id": "f67f20c3-dd49-4b92-b05b-97f710e8bdb2",
   "metadata": {},
   "source": [
    "#### Create Additional Time-Based Features for Forecasting"
   ]
  },
  {
   "cell_type": "code",
   "execution_count": 17,
   "id": "178266d4-f800-483e-b7d0-89644b59942a",
   "metadata": {},
   "outputs": [],
   "source": [
    "df['Is_Holiday_Season'] = df['Order Month'].apply(lambda x: 1 if x in [11, 12] else 0)  # Mark November and December as holiday season"
   ]
  },
  {
   "cell_type": "code",
   "execution_count": 18,
   "id": "5609b2a7-ef7d-480e-be74-4cbf88739fd3",
   "metadata": {},
   "outputs": [
    {
     "name": "stdout",
     "output_type": "stream",
     "text": [
      "Preprocessed DataFrame:\n",
      "    Row ID        Order ID Order Date  Ship Date Customer ID    Customer Name  \\\n",
      "0       1  CA-2017-152156 2017-11-08 2017-11-11    CG-12520      Claire Gute   \n",
      "1       2  CA-2017-152156 2017-11-08 2017-11-11    CG-12520      Claire Gute   \n",
      "2       3  CA-2017-138688 2017-06-12 2017-06-16    DV-13045  Darrin Van Huff   \n",
      "3       4  US-2016-108966 2016-10-11 2016-10-18    SO-20335   Sean O'Donnell   \n",
      "4       5  US-2016-108966 2016-10-11 2016-10-18    SO-20335   Sean O'Donnell   \n",
      "\n",
      "         Country             City       State Postal Code  ...  \\\n",
      "0  United States        Henderson    Kentucky     42420.0  ...   \n",
      "1  United States        Henderson    Kentucky     42420.0  ...   \n",
      "2  United States      Los Angeles  California     90036.0  ...   \n",
      "3  United States  Fort Lauderdale     Florida     33311.0  ...   \n",
      "4  United States  Fort Lauderdale     Florida     33311.0  ...   \n",
      "\n",
      "  Fulfillment Time (Days) Ship Mode_Same Day Ship Mode_Second Class  \\\n",
      "0                       3              False                   True   \n",
      "1                       3              False                   True   \n",
      "2                       4              False                   True   \n",
      "3                       7              False                  False   \n",
      "4                       7              False                  False   \n",
      "\n",
      "  Ship Mode_Standard Class  Segment_Corporate  Segment_Home Office  \\\n",
      "0                    False              False                False   \n",
      "1                    False              False                False   \n",
      "2                    False               True                False   \n",
      "3                     True              False                False   \n",
      "4                     True              False                False   \n",
      "\n",
      "   Region_East  Region_South  Region_West  Is_Holiday_Season  \n",
      "0        False          True        False                  1  \n",
      "1        False          True        False                  1  \n",
      "2        False         False         True                  0  \n",
      "3        False          True        False                  0  \n",
      "4        False          True        False                  0  \n",
      "\n",
      "[5 rows x 29 columns]\n",
      "\n",
      "Monthly Sales Data:\n",
      "   Order Date      Sales\n",
      "0 2015-01-31  14205.707\n",
      "1 2015-02-28   4519.892\n",
      "2 2015-03-31  55205.797\n",
      "3 2015-04-30  27906.855\n",
      "4 2015-05-31  23644.303\n",
      "\n",
      "Customer RFM Data:\n",
      "   Customer ID  Recency  Frequency  Monetary\n",
      "0    AA-10315      184          5  5563.560\n",
      "1    AA-10375       19          9  1056.390\n",
      "2    AA-10480      259          4  1790.512\n",
      "3    AA-10645       55          6  5086.935\n",
      "4    AB-10015      415          3   886.156\n",
      "\n",
      "Product Aggregates:\n",
      "         Product ID                                       Product Name  \\\n",
      "0  FUR-BO-10000112   Bush Birmingham Collection Bookcase, Dark Cherry   \n",
      "1  FUR-BO-10000330  Sauder Camden County Barrister Bookcase, Plank...   \n",
      "2  FUR-BO-10000362                 Sauder Inglewood Library Bookcases   \n",
      "3  FUR-BO-10000468            O'Sullivan 2-Shelf Heavy-Duty Bookcases   \n",
      "4  FUR-BO-10000711                          Hon Metal Bookcases, Gray   \n",
      "\n",
      "   Total Sales  Total Units Sold  \n",
      "0      825.174                 1  \n",
      "1     1064.624                 3  \n",
      "2     2154.348                 5  \n",
      "3      723.842                 6  \n",
      "4      851.760                 2  \n"
     ]
    }
   ],
   "source": [
    "print(\"Preprocessed DataFrame:\\n\", df.head())\n",
    "print(\"\\nMonthly Sales Data:\\n\", monthly_sales.head())\n",
    "print(\"\\nCustomer RFM Data:\\n\", rfm.head())\n",
    "print(\"\\nProduct Aggregates:\\n\", product_agg.head())"
   ]
  },
  {
   "cell_type": "markdown",
   "id": "adf2d55e-34f7-495e-995e-0f5954261933",
   "metadata": {},
   "source": [
    "#### Save cleaned DataFrame to CSV"
   ]
  },
  {
   "cell_type": "code",
   "execution_count": 20,
   "id": "d541f5bd-6d47-41e8-bc27-59f753b4a541",
   "metadata": {},
   "outputs": [],
   "source": [
    "output_path = '/Users/hpourmand/Desktop/Retail/PreparedDataset.csv'\n",
    "df.to_csv(output_path, index=False)"
   ]
  }
 ],
 "metadata": {
  "kernelspec": {
   "display_name": "Python 3 (ipykernel)",
   "language": "python",
   "name": "python3"
  },
  "language_info": {
   "codemirror_mode": {
    "name": "ipython",
    "version": 3
   },
   "file_extension": ".py",
   "mimetype": "text/x-python",
   "name": "python",
   "nbconvert_exporter": "python",
   "pygments_lexer": "ipython3",
   "version": "3.11.7"
  }
 },
 "nbformat": 4,
 "nbformat_minor": 5
}
