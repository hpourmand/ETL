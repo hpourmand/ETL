{
 "cells": [
  {
   "cell_type": "markdown",
   "id": "d5297dd5-f53b-4c13-9cbf-18972217ffdb",
   "metadata": {},
   "source": [
    "## Feature Engineering"
   ]
  },
  {
   "cell_type": "markdown",
   "id": "5ac2122e-931c-42eb-83d9-fac90b24f395",
   "metadata": {},
   "source": [
    "#### Import Libraries"
   ]
  },
  {
   "cell_type": "code",
   "execution_count": 2,
   "id": "f7d570c4-69ae-476c-95d2-f42bddc49e89",
   "metadata": {},
   "outputs": [],
   "source": [
    "import pandas as pd\n",
    "import numpy as np"
   ]
  },
  {
   "cell_type": "markdown",
   "id": "6223f061-0f83-4ad9-8027-dfbc27173e60",
   "metadata": {},
   "source": [
    "#### Load Dataset"
   ]
  },
  {
   "cell_type": "code",
   "execution_count": 4,
   "id": "87e646c2-459b-4207-b034-0975b4526957",
   "metadata": {},
   "outputs": [],
   "source": [
    "df = pd.read_csv('/Users/hpourmand/Desktop/Retail/PreparedDataset.csv')"
   ]
  },
  {
   "cell_type": "markdown",
   "id": "d5d64fdc-d12a-41b2-b60a-b44b9a3eb72f",
   "metadata": {},
   "source": [
    "#### Extract Date Components for Order Date"
   ]
  },
  {
   "cell_type": "code",
   "execution_count": 9,
   "id": "8d1d9c58-3389-4a2f-b9eb-c0b24df8b433",
   "metadata": {},
   "outputs": [],
   "source": [
    "# Convert 'Order Date' and 'Ship Date' columns to datetime format\n",
    "df['Order Date'] = pd.to_datetime(df['Order Date'], errors='coerce')\n",
    "df['Ship Date'] = pd.to_datetime(df['Ship Date'], errors='coerce')\n",
    "\n",
    "# Extract year, month, day, weekday, and ISO week number\n",
    "df['Order Year'] = df['Order Date'].dt.year\n",
    "df['Order Month'] = df['Order Date'].dt.month\n",
    "df['Order Day'] = df['Order Date'].dt.day\n",
    "df['Order Weekday'] = df['Order Date'].dt.weekday  # Monday=0, Sunday=6\n",
    "df['Order Week'] = df['Order Date'].dt.isocalendar().week  # ISO week number"
   ]
  },
  {
   "cell_type": "markdown",
   "id": "468a765d-62d5-4e12-bb15-4687ff2f6bc0",
   "metadata": {},
   "source": [
    "#### Calculate Order Fulfillment Time (Shipping Duration)"
   ]
  },
  {
   "cell_type": "code",
   "execution_count": 10,
   "id": "0a6b2923-36d9-4a65-b55c-3d8ff9eedb3e",
   "metadata": {},
   "outputs": [],
   "source": [
    "df['Fulfillment Time (Days)'] = (df['Ship Date'] - df['Order Date']).dt.days"
   ]
  },
  {
   "cell_type": "markdown",
   "id": "eedb73da-64a7-464a-aaf0-b4d60baf9342",
   "metadata": {},
   "source": [
    "#### Create Revenue per Order (Sales per Order)"
   ]
  },
  {
   "cell_type": "code",
   "execution_count": 12,
   "id": "8110109e-446f-43af-a71b-16ca06bca23b",
   "metadata": {},
   "outputs": [],
   "source": [
    "df['Revenue per Order'] = df['Sales']"
   ]
  },
  {
   "cell_type": "markdown",
   "id": "4a232543-c871-419a-9734-6afc413784ec",
   "metadata": {},
   "source": [
    "####  Identify Holiday Seasons"
   ]
  },
  {
   "cell_type": "code",
   "execution_count": 14,
   "id": "1f4074a1-dbe4-43b6-888d-f413e79c64eb",
   "metadata": {},
   "outputs": [],
   "source": [
    "df['Is_Holiday_Season'] = df['Order Month'].apply(lambda x: 1 if x in [11, 12] else 0)"
   ]
  },
  {
   "cell_type": "markdown",
   "id": "f3f28e99-ed1f-4768-9b76-89ea0a695d12",
   "metadata": {},
   "source": [
    "#### RFM Features for Customer Segmentation"
   ]
  },
  {
   "cell_type": "markdown",
   "id": "f20a82ec-cc01-4610-b052-688c23619cb4",
   "metadata": {},
   "source": [
    "##### Recency: Days since the last purchase, Frequency: Total number of orders by the customer, Monetary: Total spending by the customer"
   ]
  },
  {
   "cell_type": "code",
   "execution_count": 15,
   "id": "3c697f97-2827-4179-b96b-dae533f69933",
   "metadata": {},
   "outputs": [],
   "source": [
    "rfm = df.groupby('Customer ID').agg({\n",
    "    'Order Date': lambda x: (df['Order Date'].max() - x.max()).days,  # Recency\n",
    "    'Order ID': 'nunique',  # Frequency\n",
    "    'Sales': 'sum'          # Monetary\n",
    "}).reset_index()\n",
    "\n",
    "# Rename columns for clarity in RFM\n",
    "rfm.columns = ['Customer ID', 'Recency', 'Frequency', 'Monetary']\n",
    "\n",
    "# Merge RFM data back with the main DataFrame\n",
    "df = df.merge(rfm, on='Customer ID', how='left')"
   ]
  },
  {
   "cell_type": "markdown",
   "id": "9f56a9dd-4ae3-4295-ab75-29948301789d",
   "metadata": {},
   "source": [
    "#### Product-Level Aggregates"
   ]
  },
  {
   "cell_type": "code",
   "execution_count": 17,
   "id": "cf49353f-98a4-42fa-912c-b9aeedf5815f",
   "metadata": {},
   "outputs": [],
   "source": [
    "# Calculate total sales and total units sold per product\n",
    "product_agg = df.groupby(['Product ID']).agg({\n",
    "    'Sales': 'sum',\n",
    "    'Order ID': 'count'  # Assuming each row in 'Order ID' represents a unit sold\n",
    "}).reset_index()\n",
    "\n",
    "# Rename columns for clarity\n",
    "product_agg.columns = ['Product ID', 'Total Sales', 'Total Units Sold']\n",
    "\n",
    "# Merge Product-Level Aggregates back to the main DataFrame\n",
    "df = df.merge(product_agg, on='Product ID', how='left')"
   ]
  },
  {
   "cell_type": "markdown",
   "id": "bbc69d24-331e-4d32-aff2-ecc6f6105ded",
   "metadata": {},
   "source": [
    "#### Customer Lifetime Value (CLV) Approximation"
   ]
  },
  {
   "cell_type": "code",
   "execution_count": 18,
   "id": "280e6544-bf09-4dbc-8a5f-2c690862c514",
   "metadata": {},
   "outputs": [],
   "source": [
    "df['Avg_Monetary_Value'] = df['Monetary'] / df['Frequency']\n",
    "df['CLV'] = df['Avg_Monetary_Value'] * df['Frequency']"
   ]
  },
  {
   "cell_type": "markdown",
   "id": "8b9b8304-08e8-475e-bd64-e3211080bacc",
   "metadata": {},
   "source": [
    "#### Encoding Categorical Variables"
   ]
  },
  {
   "cell_type": "code",
   "execution_count": 20,
   "id": "5532037e-ba01-4fba-a939-028c34258463",
   "metadata": {},
   "outputs": [
    {
     "ename": "KeyError",
     "evalue": "\"None of [Index(['Ship Mode', 'Segment', 'Region'], dtype='object')] are in the [columns]\"",
     "output_type": "error",
     "traceback": [
      "\u001b[0;31m---------------------------------------------------------------------------\u001b[0m",
      "\u001b[0;31mKeyError\u001b[0m                                  Traceback (most recent call last)",
      "Cell \u001b[0;32mIn[20], line 1\u001b[0m\n\u001b[0;32m----> 1\u001b[0m df \u001b[38;5;241m=\u001b[39m pd\u001b[38;5;241m.\u001b[39mget_dummies(df, columns\u001b[38;5;241m=\u001b[39m[\u001b[38;5;124m'\u001b[39m\u001b[38;5;124mShip Mode\u001b[39m\u001b[38;5;124m'\u001b[39m, \u001b[38;5;124m'\u001b[39m\u001b[38;5;124mSegment\u001b[39m\u001b[38;5;124m'\u001b[39m, \u001b[38;5;124m'\u001b[39m\u001b[38;5;124mRegion\u001b[39m\u001b[38;5;124m'\u001b[39m], drop_first\u001b[38;5;241m=\u001b[39m\u001b[38;5;28;01mTrue\u001b[39;00m)\n",
      "File \u001b[0;32m/opt/anaconda3/lib/python3.11/site-packages/pandas/core/reshape/encoding.py:169\u001b[0m, in \u001b[0;36mget_dummies\u001b[0;34m(data, prefix, prefix_sep, dummy_na, columns, sparse, drop_first, dtype)\u001b[0m\n\u001b[1;32m    167\u001b[0m     \u001b[38;5;28;01mraise\u001b[39;00m \u001b[38;5;167;01mTypeError\u001b[39;00m(\u001b[38;5;124m\"\u001b[39m\u001b[38;5;124mInput must be a list-like for parameter `columns`\u001b[39m\u001b[38;5;124m\"\u001b[39m)\n\u001b[1;32m    168\u001b[0m \u001b[38;5;28;01melse\u001b[39;00m:\n\u001b[0;32m--> 169\u001b[0m     data_to_encode \u001b[38;5;241m=\u001b[39m data[columns]\n\u001b[1;32m    171\u001b[0m \u001b[38;5;66;03m# validate prefixes and separator to avoid silently dropping cols\u001b[39;00m\n\u001b[1;32m    172\u001b[0m \u001b[38;5;28;01mdef\u001b[39;00m \u001b[38;5;21mcheck_len\u001b[39m(item, name: \u001b[38;5;28mstr\u001b[39m):\n",
      "File \u001b[0;32m/opt/anaconda3/lib/python3.11/site-packages/pandas/core/frame.py:4108\u001b[0m, in \u001b[0;36mDataFrame.__getitem__\u001b[0;34m(self, key)\u001b[0m\n\u001b[1;32m   4106\u001b[0m     \u001b[38;5;28;01mif\u001b[39;00m is_iterator(key):\n\u001b[1;32m   4107\u001b[0m         key \u001b[38;5;241m=\u001b[39m \u001b[38;5;28mlist\u001b[39m(key)\n\u001b[0;32m-> 4108\u001b[0m     indexer \u001b[38;5;241m=\u001b[39m \u001b[38;5;28mself\u001b[39m\u001b[38;5;241m.\u001b[39mcolumns\u001b[38;5;241m.\u001b[39m_get_indexer_strict(key, \u001b[38;5;124m\"\u001b[39m\u001b[38;5;124mcolumns\u001b[39m\u001b[38;5;124m\"\u001b[39m)[\u001b[38;5;241m1\u001b[39m]\n\u001b[1;32m   4110\u001b[0m \u001b[38;5;66;03m# take() does not accept boolean indexers\u001b[39;00m\n\u001b[1;32m   4111\u001b[0m \u001b[38;5;28;01mif\u001b[39;00m \u001b[38;5;28mgetattr\u001b[39m(indexer, \u001b[38;5;124m\"\u001b[39m\u001b[38;5;124mdtype\u001b[39m\u001b[38;5;124m\"\u001b[39m, \u001b[38;5;28;01mNone\u001b[39;00m) \u001b[38;5;241m==\u001b[39m \u001b[38;5;28mbool\u001b[39m:\n",
      "File \u001b[0;32m/opt/anaconda3/lib/python3.11/site-packages/pandas/core/indexes/base.py:6200\u001b[0m, in \u001b[0;36mIndex._get_indexer_strict\u001b[0;34m(self, key, axis_name)\u001b[0m\n\u001b[1;32m   6197\u001b[0m \u001b[38;5;28;01melse\u001b[39;00m:\n\u001b[1;32m   6198\u001b[0m     keyarr, indexer, new_indexer \u001b[38;5;241m=\u001b[39m \u001b[38;5;28mself\u001b[39m\u001b[38;5;241m.\u001b[39m_reindex_non_unique(keyarr)\n\u001b[0;32m-> 6200\u001b[0m \u001b[38;5;28mself\u001b[39m\u001b[38;5;241m.\u001b[39m_raise_if_missing(keyarr, indexer, axis_name)\n\u001b[1;32m   6202\u001b[0m keyarr \u001b[38;5;241m=\u001b[39m \u001b[38;5;28mself\u001b[39m\u001b[38;5;241m.\u001b[39mtake(indexer)\n\u001b[1;32m   6203\u001b[0m \u001b[38;5;28;01mif\u001b[39;00m \u001b[38;5;28misinstance\u001b[39m(key, Index):\n\u001b[1;32m   6204\u001b[0m     \u001b[38;5;66;03m# GH 42790 - Preserve name from an Index\u001b[39;00m\n",
      "File \u001b[0;32m/opt/anaconda3/lib/python3.11/site-packages/pandas/core/indexes/base.py:6249\u001b[0m, in \u001b[0;36mIndex._raise_if_missing\u001b[0;34m(self, key, indexer, axis_name)\u001b[0m\n\u001b[1;32m   6247\u001b[0m \u001b[38;5;28;01mif\u001b[39;00m nmissing:\n\u001b[1;32m   6248\u001b[0m     \u001b[38;5;28;01mif\u001b[39;00m nmissing \u001b[38;5;241m==\u001b[39m \u001b[38;5;28mlen\u001b[39m(indexer):\n\u001b[0;32m-> 6249\u001b[0m         \u001b[38;5;28;01mraise\u001b[39;00m \u001b[38;5;167;01mKeyError\u001b[39;00m(\u001b[38;5;124mf\u001b[39m\u001b[38;5;124m\"\u001b[39m\u001b[38;5;124mNone of [\u001b[39m\u001b[38;5;132;01m{\u001b[39;00mkey\u001b[38;5;132;01m}\u001b[39;00m\u001b[38;5;124m] are in the [\u001b[39m\u001b[38;5;132;01m{\u001b[39;00maxis_name\u001b[38;5;132;01m}\u001b[39;00m\u001b[38;5;124m]\u001b[39m\u001b[38;5;124m\"\u001b[39m)\n\u001b[1;32m   6251\u001b[0m     not_found \u001b[38;5;241m=\u001b[39m \u001b[38;5;28mlist\u001b[39m(ensure_index(key)[missing_mask\u001b[38;5;241m.\u001b[39mnonzero()[\u001b[38;5;241m0\u001b[39m]]\u001b[38;5;241m.\u001b[39munique())\n\u001b[1;32m   6252\u001b[0m     \u001b[38;5;28;01mraise\u001b[39;00m \u001b[38;5;167;01mKeyError\u001b[39;00m(\u001b[38;5;124mf\u001b[39m\u001b[38;5;124m\"\u001b[39m\u001b[38;5;132;01m{\u001b[39;00mnot_found\u001b[38;5;132;01m}\u001b[39;00m\u001b[38;5;124m not in index\u001b[39m\u001b[38;5;124m\"\u001b[39m)\n",
      "\u001b[0;31mKeyError\u001b[0m: \"None of [Index(['Ship Mode', 'Segment', 'Region'], dtype='object')] are in the [columns]\""
     ]
    }
   ],
   "source": [
    "df = pd.get_dummies(df, columns=['Ship Mode', 'Segment', 'Region'], drop_first=True)"
   ]
  },
  {
   "cell_type": "code",
   "execution_count": null,
   "id": "f902fe6e-bf6c-43ca-9f8d-3479832e8c4f",
   "metadata": {},
   "outputs": [],
   "source": []
  }
 ],
 "metadata": {
  "kernelspec": {
   "display_name": "Python 3 (ipykernel)",
   "language": "python",
   "name": "python3"
  },
  "language_info": {
   "codemirror_mode": {
    "name": "ipython",
    "version": 3
   },
   "file_extension": ".py",
   "mimetype": "text/x-python",
   "name": "python",
   "nbconvert_exporter": "python",
   "pygments_lexer": "ipython3",
   "version": "3.11.7"
  }
 },
 "nbformat": 4,
 "nbformat_minor": 5
}
